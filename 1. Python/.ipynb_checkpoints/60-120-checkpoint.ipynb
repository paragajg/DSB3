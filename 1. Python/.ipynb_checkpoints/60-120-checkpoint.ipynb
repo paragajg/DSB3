{
 "cells": [
  {
   "cell_type": "markdown",
   "metadata": {},
   "source": [
    "## Philosphy:  Lets learn programming language to solve a problem and not to solve coding complexities."
   ]
  },
  {
   "cell_type": "markdown",
   "metadata": {},
   "source": [
    "### Mall Customer Segmentation Data\n",
    "https://www.kaggle.com/vjchoudhary7/customer-segmentation-tutorial-in-python\n",
    "\n",
    "#### Description of dataset: \n",
    "This file contains the basic information (ID, age, gender, income, spending score) about the customer\n",
    "\n",
    "#### Explore the dataset for follwoing questons:\n",
    "- Does age of a customer impact spending nature ?\n",
    "- Does Annual Income play a role in spendings by a customer ?"
   ]
  },
  {
   "cell_type": "code",
   "execution_count": null,
   "metadata": {},
   "outputs": [],
   "source": [
    "# Pythonic way to read a file\n",
    "with open('Mall_Customers.csv',\"r\") as file: # f is a file handler, while \"r\" is the mode (r for read)\n",
    "    for line in file:\n",
    "        print(line)"
   ]
  },
  {
   "cell_type": "markdown",
   "metadata": {},
   "source": [
    "### Refer below for more details on filehandlers in python\n",
    "https://docs.python.org/3.7/tutorial/inputoutput.html"
   ]
  },
  {
   "cell_type": "code",
   "execution_count": 2,
   "metadata": {},
   "outputs": [
    {
     "name": "stdout",
     "output_type": "stream",
     "text": [
      "['CustomerID', 'Gender', 'Age', 'Annual Income (k$)', 'Spending Score (1-100)\\n']\n",
      "['1', 'Male', '19', '15', '39\\n']\n",
      "['2', 'Male', '21', '15', '81\\n']\n",
      "['3', 'Female', '20', '16', '6\\n']\n",
      "['4', 'Female', '23', '16', '77\\n']\n",
      "['5', 'Female', '31', '17', '40\\n']\n",
      "['6', 'Female', '22', '17', '76\\n']\n",
      "['7', 'Female', '35', '18', '6\\n']\n",
      "['8', 'Female', '23', '18', '94\\n']\n",
      "['9', 'Male', '64', '19', '3\\n']\n",
      "['10', 'Female', '30', '19', '72\\n']\n",
      "['11', 'Male', '67', '19', '14\\n']\n",
      "['12', 'Female', '35', '19', '99\\n']\n",
      "['13', 'Female', '58', '20', '15\\n']\n",
      "['14', 'Female', '24', '20', '77\\n']\n",
      "['15', 'Male', '37', '20', '13\\n']\n",
      "['16', 'Male', '22', '20', '79\\n']\n",
      "['17', 'Female', '35', '21', '35\\n']\n",
      "['18', 'Male', '20', '21', '66\\n']\n",
      "['19', 'Male', '52', '23', '29\\n']\n",
      "['20', 'Female', '35', '23', '98\\n']\n",
      "['21', 'Male', '35', '24', '35\\n']\n",
      "['22', 'Male', '25', '24', '73\\n']\n",
      "['23', 'Female', '46', '25', '5\\n']\n",
      "['24', 'Male', '31', '25', '73\\n']\n",
      "['25', 'Female', '54', '28', '14\\n']\n",
      "['26', 'Male', '29', '28', '82\\n']\n",
      "['27', 'Female', '45', '28', '32\\n']\n",
      "['28', 'Male', '35', '28', '61\\n']\n",
      "['29', 'Female', '40', '29', '31\\n']\n",
      "['30', 'Female', '23', '29', '87\\n']\n",
      "['31', 'Male', '60', '30', '4\\n']\n",
      "['32', 'Female', '21', '30', '73\\n']\n",
      "['33', 'Male', '53', '33', '4\\n']\n",
      "['34', 'Male', '18', '33', '92\\n']\n",
      "['35', 'Female', '49', '33', '14\\n']\n",
      "['36', 'Female', '21', '33', '81\\n']\n",
      "['37', 'Female', '42', '34', '17\\n']\n",
      "['38', 'Female', '30', '34', '73\\n']\n",
      "['39', 'Female', '36', '37', '26\\n']\n",
      "['40', 'Female', '20', '37', '75\\n']\n",
      "['41', 'Female', '65', '38', '35\\n']\n",
      "['42', 'Male', '24', '38', '92\\n']\n",
      "['43', 'Male', '48', '39', '36\\n']\n",
      "['44', 'Female', '31', '39', '61\\n']\n",
      "['45', 'Female', '49', '39', '28\\n']\n",
      "['46', 'Female', '24', '39', '65\\n']\n",
      "['47', 'Female', '50', '40', '55\\n']\n",
      "['48', 'Female', '27', '40', '47\\n']\n",
      "['49', 'Female', '29', '40', '42\\n']\n",
      "['50', 'Female', '31', '40', '42\\n']\n",
      "['51', 'Female', '49', '42', '52\\n']\n",
      "['52', 'Male', '33', '42', '60\\n']\n",
      "['53', 'Female', '31', '43', '54\\n']\n",
      "['54', 'Male', '59', '43', '60\\n']\n",
      "['55', 'Female', '50', '43', '45\\n']\n",
      "['56', 'Male', '47', '43', '41\\n']\n",
      "['57', 'Female', '51', '44', '50\\n']\n",
      "['58', 'Male', '69', '44', '46\\n']\n",
      "['59', 'Female', '27', '46', '51\\n']\n",
      "['60', 'Male', '53', '46', '46\\n']\n",
      "['61', 'Male', '70', '46', '56\\n']\n",
      "['62', 'Male', '19', '46', '55\\n']\n",
      "['63', 'Female', '67', '47', '52\\n']\n",
      "['64', 'Female', '54', '47', '59\\n']\n",
      "['65', 'Male', '63', '48', '51\\n']\n",
      "['66', 'Male', '18', '48', '59\\n']\n",
      "['67', 'Female', '43', '48', '50\\n']\n",
      "['68', 'Female', '68', '48', '48\\n']\n",
      "['69', 'Male', '19', '48', '59\\n']\n",
      "['70', 'Female', '32', '48', '47\\n']\n",
      "['71', 'Male', '70', '49', '55\\n']\n",
      "['72', 'Female', '47', '49', '42\\n']\n",
      "['73', 'Female', '60', '50', '49\\n']\n",
      "['74', 'Female', '60', '50', '56\\n']\n",
      "['75', 'Male', '59', '54', '47\\n']\n",
      "['76', 'Male', '26', '54', '54\\n']\n",
      "['77', 'Female', '45', '54', '53\\n']\n",
      "['78', 'Male', '40', '54', '48\\n']\n",
      "['79', 'Female', '23', '54', '52\\n']\n",
      "['80', 'Female', '49', '54', '42\\n']\n",
      "['81', 'Male', '57', '54', '51\\n']\n",
      "['82', 'Male', '38', '54', '55\\n']\n",
      "['83', 'Male', '67', '54', '41\\n']\n",
      "['84', 'Female', '46', '54', '44\\n']\n",
      "['85', 'Female', '21', '54', '57\\n']\n",
      "['86', 'Male', '48', '54', '46\\n']\n",
      "['87', 'Female', '55', '57', '58\\n']\n",
      "['88', 'Female', '22', '57', '55\\n']\n",
      "['89', 'Female', '34', '58', '60\\n']\n",
      "['90', 'Female', '50', '58', '46\\n']\n",
      "['91', 'Female', '68', '59', '55\\n']\n",
      "['92', 'Male', '18', '59', '41\\n']\n",
      "['93', 'Male', '48', '60', '49\\n']\n",
      "['94', 'Female', '40', '60', '40\\n']\n",
      "['95', 'Female', '32', '60', '42\\n']\n",
      "['96', 'Male', '24', '60', '52\\n']\n",
      "['97', 'Female', '47', '60', '47\\n']\n",
      "['98', 'Female', '27', '60', '50\\n']\n",
      "['99', 'Male', '48', '61', '42\\n']\n",
      "['100', 'Male', '20', '61', '49\\n']\n",
      "['101', 'Female', '23', '62', '41\\n']\n",
      "['102', 'Female', '49', '62', '48\\n']\n",
      "['103', 'Male', '67', '62', '59\\n']\n",
      "['104', 'Male', '26', '62', '55\\n']\n",
      "['105', 'Male', '49', '62', '56\\n']\n",
      "['106', 'Female', '21', '62', '42\\n']\n",
      "['107', 'Female', '66', '63', '50\\n']\n",
      "['108', 'Male', '54', '63', '46\\n']\n",
      "['109', 'Male', '68', '63', '43\\n']\n",
      "['110', 'Male', '66', '63', '48\\n']\n",
      "['111', 'Male', '65', '63', '52\\n']\n",
      "['112', 'Female', '19', '63', '54\\n']\n",
      "['113', 'Female', '38', '64', '42\\n']\n",
      "['114', 'Male', '19', '64', '46\\n']\n",
      "['115', 'Female', '18', '65', '48\\n']\n",
      "['116', 'Female', '19', '65', '50\\n']\n",
      "['117', 'Female', '63', '65', '43\\n']\n",
      "['118', 'Female', '49', '65', '59\\n']\n",
      "['119', 'Female', '51', '67', '43\\n']\n",
      "['120', 'Female', '50', '67', '57\\n']\n",
      "['121', 'Male', '27', '67', '56\\n']\n",
      "['122', 'Female', '38', '67', '40\\n']\n",
      "['123', 'Female', '40', '69', '58\\n']\n",
      "['124', 'Male', '39', '69', '91\\n']\n",
      "['125', 'Female', '23', '70', '29\\n']\n",
      "['126', 'Female', '31', '70', '77\\n']\n",
      "['127', 'Male', '43', '71', '35\\n']\n",
      "['128', 'Male', '40', '71', '95\\n']\n",
      "['129', 'Male', '59', '71', '11\\n']\n",
      "['130', 'Male', '38', '71', '75\\n']\n",
      "['131', 'Male', '47', '71', '9\\n']\n",
      "['132', 'Male', '39', '71', '75\\n']\n",
      "['133', 'Female', '25', '72', '34\\n']\n",
      "['134', 'Female', '31', '72', '71\\n']\n",
      "['135', 'Male', '20', '73', '5\\n']\n",
      "['136', 'Female', '29', '73', '88\\n']\n",
      "['137', 'Female', '44', '73', '7\\n']\n",
      "['138', 'Male', '32', '73', '73\\n']\n",
      "['139', 'Male', '19', '74', '10\\n']\n",
      "['140', 'Female', '35', '74', '72\\n']\n",
      "['141', 'Female', '57', '75', '5\\n']\n",
      "['142', 'Male', '32', '75', '93\\n']\n",
      "['143', 'Female', '28', '76', '40\\n']\n",
      "['144', 'Female', '32', '76', '87\\n']\n",
      "['145', 'Male', '25', '77', '12\\n']\n",
      "['146', 'Male', '28', '77', '97\\n']\n",
      "['147', 'Male', '48', '77', '36\\n']\n",
      "['148', 'Female', '32', '77', '74\\n']\n",
      "['149', 'Female', '34', '78', '22\\n']\n",
      "['150', 'Male', '34', '78', '90\\n']\n",
      "['151', 'Male', '43', '78', '17\\n']\n",
      "['152', 'Male', '39', '78', '88\\n']\n",
      "['153', 'Female', '44', '78', '20\\n']\n",
      "['154', 'Female', '38', '78', '76\\n']\n",
      "['155', 'Female', '47', '78', '16\\n']\n",
      "['156', 'Female', '27', '78', '89\\n']\n",
      "['157', 'Male', '37', '78', '1\\n']\n",
      "['158', 'Female', '30', '78', '78\\n']\n",
      "['159', 'Male', '34', '78', '1\\n']\n",
      "['160', 'Female', '30', '78', '73\\n']\n",
      "['161', 'Female', '56', '79', '35\\n']\n",
      "['162', 'Female', '29', '79', '83\\n']\n",
      "['163', 'Male', '19', '81', '5\\n']\n",
      "['164', 'Female', '31', '81', '93\\n']\n",
      "['165', 'Male', '50', '85', '26\\n']\n",
      "['166', 'Female', '36', '85', '75\\n']\n",
      "['167', 'Male', '42', '86', '20\\n']\n",
      "['168', 'Female', '33', '86', '95\\n']\n",
      "['169', 'Female', '36', '87', '27\\n']\n",
      "['170', 'Male', '32', '87', '63\\n']\n",
      "['171', 'Male', '40', '87', '13\\n']\n",
      "['172', 'Male', '28', '87', '75\\n']\n",
      "['173', 'Male', '36', '87', '10\\n']\n",
      "['174', 'Male', '36', '87', '92\\n']\n",
      "['175', 'Female', '52', '88', '13\\n']\n",
      "['176', 'Female', '30', '88', '86\\n']\n",
      "['177', 'Male', '58', '88', '15\\n']\n",
      "['178', 'Male', '27', '88', '69\\n']\n",
      "['179', 'Male', '59', '93', '14\\n']\n",
      "['180', 'Male', '35', '93', '90\\n']\n",
      "['181', 'Female', '37', '97', '32\\n']\n",
      "['182', 'Female', '32', '97', '86\\n']\n",
      "['183', 'Male', '46', '98', '15\\n']\n",
      "['184', 'Female', '29', '98', '88\\n']\n",
      "['185', 'Female', '41', '99', '39\\n']\n",
      "['186', 'Male', '30', '99', '97\\n']\n",
      "['187', 'Female', '54', '101', '24\\n']\n",
      "['188', 'Male', '28', '101', '68\\n']\n",
      "['189', 'Female', '41', '103', '17\\n']\n",
      "['190', 'Female', '36', '103', '85\\n']\n",
      "['191', 'Female', '34', '103', '23\\n']\n",
      "['192', 'Female', '32', '103', '69\\n']\n",
      "['193', 'Male', '33', '113', '8\\n']\n",
      "['194', 'Female', '38', '113', '91\\n']\n",
      "['195', 'Female', '47', '120', '16\\n']\n",
      "['196', 'Female', '35', '120', '79\\n']\n",
      "['197', 'Female', '45', '126', '28\\n']\n",
      "['198', 'Male', '32', '126', '74\\n']\n",
      "['199', 'Male', '32', '137', '18\\n']\n",
      "['200', 'Male', '30', '137', '83\\n']\n"
     ]
    }
   ],
   "source": [
    "# Initiate lists to store individual column values\n",
    "read_list = []\n",
    "customerID =[]\n",
    "gender = []\n",
    "age =[]\n",
    "annual_income_dollar = []\n",
    "spending_score = []\n",
    "\n",
    "# Use Python I/O file handlers\n",
    "with open('Mall_Customers.csv') as file:\n",
    "    for f in file:\n",
    "        temp = f.split(',') # splitting each line as values are separated by ','\n",
    "        print(temp)\n",
    "        customerID.append(temp[0]) # appending each value to respective list\n",
    "        gender.append(temp[1])\n",
    "        age.append(temp[2])\n",
    "        annual_income_dollar.append(temp[3])\n",
    "        spending_score.append(temp[4])\n",
    "\n",
    "# Create dictionary to combine data\n",
    "mall_dict = {customerID[0]:customerID[1:], gender[0]:gender[1:],age[0]:age[1:], \n",
    "             annual_income_dollar[0]: annual_income_dollar[1:], \n",
    "             spending_score[0]:spending_score[1:]}"
   ]
  },
  {
   "cell_type": "code",
   "execution_count": null,
   "metadata": {},
   "outputs": [],
   "source": [
    "mall_dict"
   ]
  },
  {
   "cell_type": "code",
   "execution_count": null,
   "metadata": {},
   "outputs": [],
   "source": [
    "temporary_list = []\n",
    "for x in spending_score[1:]:\n",
    "    temp = x.split('\\n')\n",
    "    temp = temp[0]\n",
    "    temp = int(temp)\n",
    "    temporary_list.append(temp)\n",
    "print(temporary_list)\n",
    "\n",
    "listComprehension = [int(x.split('\\n')[0]) for x in spending_score[1:]]\n",
    "listComprehension"
   ]
  },
  {
   "cell_type": "code",
   "execution_count": null,
   "metadata": {},
   "outputs": [],
   "source": [
    "mall_dict['spending_score'] = [int(x.split('\\n')[0]) for x in spending_score[1:]]\n",
    "#print(mall_dict)"
   ]
  },
  {
   "cell_type": "markdown",
   "metadata": {},
   "source": [
    "__List Comprehensions__. List comprehensions is a pythonic way to provide a concise way to create lists. It consists of brackets containing an expression followed by a for clause, then zero or more for or if clauses. "
   ]
  },
  {
   "cell_type": "code",
   "execution_count": null,
   "metadata": {},
   "outputs": [],
   "source": [
    "mall_dict = {customerID[0]:customerID[1:], gender[0]:gender[1:],age[0]:[int(x) for x in age[1:]], \n",
    "             annual_income_dollar[0]: [int(x) for x in annual_income_dollar[1:]]\n",
    "             , spending_score[0]: [int(x.split('\\n')[0]) for x in spending_score[1:]]}\n",
    "print(mall_dict)"
   ]
  },
  {
   "cell_type": "markdown",
   "metadata": {},
   "source": [
    "### Now thats tedious !!!! To Write so many lines to export a file :("
   ]
  },
  {
   "cell_type": "markdown",
   "metadata": {},
   "source": [
    "### Libraries\n",
    "Often times, we need either internal or external help for complicated computation tasks. In these occasions, we need to _import libraries_. \n",
    "\n",
    "#### Built in Packages\n",
    "Python provides many built-in packages to prevent extra work on some common and useful functions\n",
    "We will use __math__ as an example.\n",
    "\n",
    "#### Most Commonly used Packags for Machine Learning in Python:\n",
    "- Pandas http://pandas.pydata.org/pandas-docs/stable/reference/index.html\n",
    "- Numpy https://docs.scipy.org/doc/numpy/user/quickstart.html\n",
    "- Scipy https://docs.scipy.org/doc/scipy/reference/\n",
    "- Matplotlib https://matplotlib.org/contents.html\n",
    "- Scikit learn https://scikit-learn.org/stable/user_guide.html"
   ]
  },
  {
   "cell_type": "markdown",
   "metadata": {},
   "source": [
    "### Pandas (Python Data Analysis Library) is a great package for data structures: DataFrame)\n",
    "A great library to slic and dice data and visualize it in a columnar format. Its API provides wide range of functionalities that makes data analysis a fun and true strength of Python as prefered choice over other programming languages."
   ]
  },
  {
   "cell_type": "code",
   "execution_count": 8,
   "metadata": {},
   "outputs": [],
   "source": [
    "import pandas"
   ]
  },
  {
   "cell_type": "code",
   "execution_count": 9,
   "metadata": {},
   "outputs": [],
   "source": [
    "# Export the Mall dataset using Pandas\n",
    "import pandas as pd # loading pandas library and giving it an alise pd to make code less verbose\n",
    "import numpy as np"
   ]
  },
  {
   "cell_type": "code",
   "execution_count": 10,
   "metadata": {},
   "outputs": [],
   "source": [
    "df = pd.read_csv('Mall_Customers.csv')"
   ]
  },
  {
   "cell_type": "code",
   "execution_count": 11,
   "metadata": {},
   "outputs": [
    {
     "data": {
      "text/plain": [
       "pandas.core.frame.DataFrame"
      ]
     },
     "execution_count": 11,
     "metadata": {},
     "output_type": "execute_result"
    }
   ],
   "source": [
    "type(df)"
   ]
  },
  {
   "cell_type": "code",
   "execution_count": 12,
   "metadata": {},
   "outputs": [
    {
     "data": {
      "text/html": [
       "<div>\n",
       "<style scoped>\n",
       "    .dataframe tbody tr th:only-of-type {\n",
       "        vertical-align: middle;\n",
       "    }\n",
       "\n",
       "    .dataframe tbody tr th {\n",
       "        vertical-align: top;\n",
       "    }\n",
       "\n",
       "    .dataframe thead th {\n",
       "        text-align: right;\n",
       "    }\n",
       "</style>\n",
       "<table border=\"1\" class=\"dataframe\">\n",
       "  <thead>\n",
       "    <tr style=\"text-align: right;\">\n",
       "      <th></th>\n",
       "      <th>CustomerID</th>\n",
       "      <th>Gender</th>\n",
       "      <th>Age</th>\n",
       "      <th>Annual Income (k$)</th>\n",
       "      <th>Spending Score (1-100)</th>\n",
       "    </tr>\n",
       "  </thead>\n",
       "  <tbody>\n",
       "    <tr>\n",
       "      <th>0</th>\n",
       "      <td>1</td>\n",
       "      <td>Male</td>\n",
       "      <td>19</td>\n",
       "      <td>15</td>\n",
       "      <td>39</td>\n",
       "    </tr>\n",
       "    <tr>\n",
       "      <th>1</th>\n",
       "      <td>2</td>\n",
       "      <td>Male</td>\n",
       "      <td>21</td>\n",
       "      <td>15</td>\n",
       "      <td>81</td>\n",
       "    </tr>\n",
       "    <tr>\n",
       "      <th>2</th>\n",
       "      <td>3</td>\n",
       "      <td>Female</td>\n",
       "      <td>20</td>\n",
       "      <td>16</td>\n",
       "      <td>6</td>\n",
       "    </tr>\n",
       "    <tr>\n",
       "      <th>3</th>\n",
       "      <td>4</td>\n",
       "      <td>Female</td>\n",
       "      <td>23</td>\n",
       "      <td>16</td>\n",
       "      <td>77</td>\n",
       "    </tr>\n",
       "    <tr>\n",
       "      <th>4</th>\n",
       "      <td>5</td>\n",
       "      <td>Female</td>\n",
       "      <td>31</td>\n",
       "      <td>17</td>\n",
       "      <td>40</td>\n",
       "    </tr>\n",
       "  </tbody>\n",
       "</table>\n",
       "</div>"
      ],
      "text/plain": [
       "   CustomerID  Gender  Age  Annual Income (k$)  Spending Score (1-100)\n",
       "0           1    Male   19                  15                      39\n",
       "1           2    Male   21                  15                      81\n",
       "2           3  Female   20                  16                       6\n",
       "3           4  Female   23                  16                      77\n",
       "4           5  Female   31                  17                      40"
      ]
     },
     "execution_count": 12,
     "metadata": {},
     "output_type": "execute_result"
    }
   ],
   "source": [
    "df.head()"
   ]
  },
  {
   "cell_type": "code",
   "execution_count": null,
   "metadata": {},
   "outputs": [],
   "source": [
    "df.columns"
   ]
  },
  {
   "cell_type": "code",
   "execution_count": null,
   "metadata": {},
   "outputs": [],
   "source": [
    "print(df.head()) # top n reocrds\n",
    "print(df.tail(n=10)) # last n records\n",
    "print(df.shape) # rows x columns"
   ]
  },
  {
   "cell_type": "code",
   "execution_count": 13,
   "metadata": {},
   "outputs": [
    {
     "data": {
      "text/html": [
       "<div>\n",
       "<style scoped>\n",
       "    .dataframe tbody tr th:only-of-type {\n",
       "        vertical-align: middle;\n",
       "    }\n",
       "\n",
       "    .dataframe tbody tr th {\n",
       "        vertical-align: top;\n",
       "    }\n",
       "\n",
       "    .dataframe thead th {\n",
       "        text-align: right;\n",
       "    }\n",
       "</style>\n",
       "<table border=\"1\" class=\"dataframe\">\n",
       "  <thead>\n",
       "    <tr style=\"text-align: right;\">\n",
       "      <th></th>\n",
       "      <th>CustomerID</th>\n",
       "      <th>Age</th>\n",
       "      <th>Annual Income (k$)</th>\n",
       "      <th>Spending Score (1-100)</th>\n",
       "    </tr>\n",
       "  </thead>\n",
       "  <tbody>\n",
       "    <tr>\n",
       "      <th>count</th>\n",
       "      <td>200.000000</td>\n",
       "      <td>200.000000</td>\n",
       "      <td>200.000000</td>\n",
       "      <td>200.000000</td>\n",
       "    </tr>\n",
       "    <tr>\n",
       "      <th>mean</th>\n",
       "      <td>100.500000</td>\n",
       "      <td>38.850000</td>\n",
       "      <td>60.560000</td>\n",
       "      <td>50.200000</td>\n",
       "    </tr>\n",
       "    <tr>\n",
       "      <th>std</th>\n",
       "      <td>57.879185</td>\n",
       "      <td>13.969007</td>\n",
       "      <td>26.264721</td>\n",
       "      <td>25.823522</td>\n",
       "    </tr>\n",
       "    <tr>\n",
       "      <th>min</th>\n",
       "      <td>1.000000</td>\n",
       "      <td>18.000000</td>\n",
       "      <td>15.000000</td>\n",
       "      <td>1.000000</td>\n",
       "    </tr>\n",
       "    <tr>\n",
       "      <th>25%</th>\n",
       "      <td>50.750000</td>\n",
       "      <td>28.750000</td>\n",
       "      <td>41.500000</td>\n",
       "      <td>34.750000</td>\n",
       "    </tr>\n",
       "    <tr>\n",
       "      <th>50%</th>\n",
       "      <td>100.500000</td>\n",
       "      <td>36.000000</td>\n",
       "      <td>61.500000</td>\n",
       "      <td>50.000000</td>\n",
       "    </tr>\n",
       "    <tr>\n",
       "      <th>75%</th>\n",
       "      <td>150.250000</td>\n",
       "      <td>49.000000</td>\n",
       "      <td>78.000000</td>\n",
       "      <td>73.000000</td>\n",
       "    </tr>\n",
       "    <tr>\n",
       "      <th>max</th>\n",
       "      <td>200.000000</td>\n",
       "      <td>70.000000</td>\n",
       "      <td>137.000000</td>\n",
       "      <td>99.000000</td>\n",
       "    </tr>\n",
       "  </tbody>\n",
       "</table>\n",
       "</div>"
      ],
      "text/plain": [
       "       CustomerID         Age  Annual Income (k$)  Spending Score (1-100)\n",
       "count  200.000000  200.000000          200.000000              200.000000\n",
       "mean   100.500000   38.850000           60.560000               50.200000\n",
       "std     57.879185   13.969007           26.264721               25.823522\n",
       "min      1.000000   18.000000           15.000000                1.000000\n",
       "25%     50.750000   28.750000           41.500000               34.750000\n",
       "50%    100.500000   36.000000           61.500000               50.000000\n",
       "75%    150.250000   49.000000           78.000000               73.000000\n",
       "max    200.000000   70.000000          137.000000               99.000000"
      ]
     },
     "execution_count": 13,
     "metadata": {},
     "output_type": "execute_result"
    }
   ],
   "source": [
    "df.describe()"
   ]
  },
  {
   "cell_type": "code",
   "execution_count": 14,
   "metadata": {},
   "outputs": [
    {
     "data": {
      "text/html": [
       "<div>\n",
       "<style scoped>\n",
       "    .dataframe tbody tr th:only-of-type {\n",
       "        vertical-align: middle;\n",
       "    }\n",
       "\n",
       "    .dataframe tbody tr th {\n",
       "        vertical-align: top;\n",
       "    }\n",
       "\n",
       "    .dataframe thead th {\n",
       "        text-align: right;\n",
       "    }\n",
       "</style>\n",
       "<table border=\"1\" class=\"dataframe\">\n",
       "  <thead>\n",
       "    <tr style=\"text-align: right;\">\n",
       "      <th></th>\n",
       "      <th>CustomerID</th>\n",
       "      <th>Age</th>\n",
       "      <th>Annual Income (k$)</th>\n",
       "      <th>Spending Score (1-100)</th>\n",
       "    </tr>\n",
       "    <tr>\n",
       "      <th>Gender</th>\n",
       "      <th></th>\n",
       "      <th></th>\n",
       "      <th></th>\n",
       "      <th></th>\n",
       "    </tr>\n",
       "  </thead>\n",
       "  <tbody>\n",
       "    <tr>\n",
       "      <th>Female</th>\n",
       "      <td>97.562500</td>\n",
       "      <td>38.098214</td>\n",
       "      <td>59.250000</td>\n",
       "      <td>51.526786</td>\n",
       "    </tr>\n",
       "    <tr>\n",
       "      <th>Male</th>\n",
       "      <td>104.238636</td>\n",
       "      <td>39.806818</td>\n",
       "      <td>62.227273</td>\n",
       "      <td>48.511364</td>\n",
       "    </tr>\n",
       "  </tbody>\n",
       "</table>\n",
       "</div>"
      ],
      "text/plain": [
       "        CustomerID        Age  Annual Income (k$)  Spending Score (1-100)\n",
       "Gender                                                                   \n",
       "Female   97.562500  38.098214           59.250000               51.526786\n",
       "Male    104.238636  39.806818           62.227273               48.511364"
      ]
     },
     "execution_count": 14,
     "metadata": {},
     "output_type": "execute_result"
    }
   ],
   "source": [
    "df.groupby(['Gender']).mean()"
   ]
  },
  {
   "cell_type": "code",
   "execution_count": null,
   "metadata": {},
   "outputs": [],
   "source": [
    "df.groupby(['Gender']).count()"
   ]
  },
  {
   "cell_type": "code",
   "execution_count": null,
   "metadata": {},
   "outputs": [],
   "source": [
    "df.columns"
   ]
  },
  {
   "cell_type": "code",
   "execution_count": null,
   "metadata": {},
   "outputs": [],
   "source": [
    "# Rename a single or multiple columns\n",
    "df.rename(columns={'CustomerID':'id','Spending Score (1-100)':'score','Annual Income (k$)':'income'},inplace=True)"
   ]
  },
  {
   "cell_type": "code",
   "execution_count": null,
   "metadata": {},
   "outputs": [],
   "source": [
    "df.columns"
   ]
  },
  {
   "cell_type": "markdown",
   "metadata": {},
   "source": [
    "### Slicinig a data frame \n",
    "It is one the most common operation done while analyzing the data. Slicing of a datafrmae can happen using either name of columns / rows or location index of the columns."
   ]
  },
  {
   "cell_type": "code",
   "execution_count": null,
   "metadata": {},
   "outputs": [],
   "source": [
    "df_new = df['id'] # to select a specific column by its name\n",
    "df_new"
   ]
  },
  {
   "cell_type": "code",
   "execution_count": null,
   "metadata": {},
   "outputs": [],
   "source": [
    "df_new = df.loc[0:10,['Gender','Age']] # uisng poistional slicing of dataframe along with name of columns\n",
    "df_new"
   ]
  },
  {
   "cell_type": "code",
   "execution_count": null,
   "metadata": {},
   "outputs": [],
   "source": [
    "df_new = df.iloc[0:10,0:2] # using iloc for positional slicing along rows and columns\n",
    "df_new"
   ]
  },
  {
   "cell_type": "markdown",
   "metadata": {},
   "source": [
    "### Filter & Sort dataframe\n",
    "Filtering or sorting dataframe is commonly done to extract specific values basis a rule. Filtering / Sorting can happen basis one more columns"
   ]
  },
  {
   "cell_type": "code",
   "execution_count": null,
   "metadata": {},
   "outputs": [],
   "source": [
    "df.head()"
   ]
  },
  {
   "cell_type": "code",
   "execution_count": null,
   "metadata": {},
   "outputs": [],
   "source": [
    "df.iloc[::-1]"
   ]
  },
  {
   "cell_type": "code",
   "execution_count": null,
   "metadata": {},
   "outputs": [],
   "source": [
    "df_new = df[df['Gender'] == 'Male']\n",
    "df_new"
   ]
  },
  {
   "cell_type": "code",
   "execution_count": null,
   "metadata": {},
   "outputs": [],
   "source": [
    "# Using & operator, don't forget to wrap the sub-statements with ()\n",
    "df_new = df[(df['Gender'] == 'Male') & (df['Age'] >= 20)] \n",
    "df_new"
   ]
  },
  {
   "cell_type": "code",
   "execution_count": null,
   "metadata": {},
   "outputs": [],
   "source": [
    "#Sorting of data frame basis a single columns\n",
    "df_new = df.sort_values(by = ['score'], ascending=[False])\n",
    "df_new"
   ]
  },
  {
   "cell_type": "code",
   "execution_count": null,
   "metadata": {},
   "outputs": [],
   "source": [
    "#Sorting of data frame basis multiple columns\n",
    "df_new = df.sort_values(by = ['Gender','income'], ascending=[True,False])\n",
    "df_new"
   ]
  },
  {
   "cell_type": "markdown",
   "metadata": {},
   "source": [
    "### Data Visualization\n",
    "Visualization is one of the most important things of data analysis. Besides just producing ___readable___ plots, we should make an effort to improve the overall attractiveness of the plots. `matplotlib` is a powerful package for ___Python___ users. Let's start with an example."
   ]
  },
  {
   "cell_type": "code",
   "execution_count": 17,
   "metadata": {},
   "outputs": [],
   "source": [
    "from matplotlib import pyplot as plt\n",
    "%matplotlib inline\n",
    "# this magic line is important to plot graph within jupyter notebook cell"
   ]
  },
  {
   "cell_type": "code",
   "execution_count": null,
   "metadata": {},
   "outputs": [],
   "source": [
    "plt.scatter(x = df['Age'], y = df.score) # df.score - is another method to access a specific column of data frame"
   ]
  },
  {
   "cell_type": "markdown",
   "metadata": {},
   "source": [
    "The above graph does not have any labels and is inconclusive of any information. Lets add some context to the above scatter plot."
   ]
  },
  {
   "cell_type": "code",
   "execution_count": null,
   "metadata": {},
   "outputs": [],
   "source": [
    "plt.figure(figsize=(16,8)) # Adding size to the graph- width by height\n",
    "# Use `+` as marker; color set as `g` (green); size proportion to Y values\n",
    "plt.scatter(x = df['Age'], y = df.score, c='r') \n",
    "# set x/y labels\n",
    "plt.xlabel('Age')\n",
    "plt.ylabel('Spending Score')\n",
    "# set title\n",
    "plt.title('Age vs Spending Score')"
   ]
  },
  {
   "cell_type": "markdown",
   "metadata": {},
   "source": [
    "### Anatomy of Figure\n",
    "Before we go deeper, let's take a look at the structure of a figure in `matplotlib`:\n",
    "\n",
    "<img width=700 src=\"https://matplotlib.org/_images/anatomy1.png\">\n",
    "\n",
    "As you can see, we have done things for many of the elements. There's no need to memorize them, though. We can always Google and find information on specific parts that we want to update."
   ]
  },
  {
   "cell_type": "code",
   "execution_count": 18,
   "metadata": {},
   "outputs": [
    {
     "data": {
      "image/png": "[encoded data removed]",
      "text/plain": [
       "<matplotlib.figure.Figure at 0x11d4cf8d0>"
      ]
     },
     "metadata": {
      "needs_background": "light"
     },
     "output_type": "display_data"
    }
   ],
   "source": [
    "fig, ax = plt.subplots()"
   ]
  },
  {
   "cell_type": "code",
   "execution_count": 19,
   "metadata": {},
   "outputs": [
    {
     "ename": "AttributeError",
     "evalue": "'DataFrame' object has no attribute 'score'",
     "output_type": "error",
     "traceback": [
      "\u001b[0;31m---------------------------------------------------------------------------\u001b[0m",
      "\u001b[0;31mAttributeError\u001b[0m                            Traceback (most recent call last)",
      "\u001b[0;32m<ipython-input-19-ffd1c8e3b64d>\u001b[0m in \u001b[0;36m<module>\u001b[0;34m()\u001b[0m\n\u001b[1;32m      4\u001b[0m \u001b[0mfig\u001b[0m\u001b[0;34m.\u001b[0m\u001b[0mset_figheight\u001b[0m\u001b[0;34m(\u001b[0m\u001b[0;36m8\u001b[0m\u001b[0;34m)\u001b[0m\u001b[0;34m\u001b[0m\u001b[0m\n\u001b[1;32m      5\u001b[0m \u001b[0;31m# What we just did, applying to `ax`\u001b[0m\u001b[0;34m\u001b[0m\u001b[0;34m\u001b[0m\u001b[0m\n\u001b[0;32m----> 6\u001b[0;31m \u001b[0max\u001b[0m\u001b[0;34m.\u001b[0m\u001b[0mscatter\u001b[0m\u001b[0;34m(\u001b[0m\u001b[0mx\u001b[0m \u001b[0;34m=\u001b[0m \u001b[0mdf\u001b[0m\u001b[0;34m[\u001b[0m\u001b[0;34m'Age'\u001b[0m\u001b[0;34m]\u001b[0m\u001b[0;34m,\u001b[0m \u001b[0my\u001b[0m \u001b[0;34m=\u001b[0m \u001b[0mdf\u001b[0m\u001b[0;34m.\u001b[0m\u001b[0mscore\u001b[0m\u001b[0;34m,\u001b[0m \u001b[0mc\u001b[0m\u001b[0;34m=\u001b[0m\u001b[0;34m'g'\u001b[0m\u001b[0;34m)\u001b[0m\u001b[0;34m\u001b[0m\u001b[0m\n\u001b[0m\u001b[1;32m      7\u001b[0m \u001b[0;31m#ax.plot(x = df['Age'], y = df.score, linestyle='dashed', color='k')\u001b[0m\u001b[0;34m\u001b[0m\u001b[0;34m\u001b[0m\u001b[0m\n\u001b[1;32m      8\u001b[0m \u001b[0;31m#ax.axis([0, 10, 0, 35])\u001b[0m\u001b[0;34m\u001b[0m\u001b[0;34m\u001b[0m\u001b[0m\n",
      "\u001b[0;32m~/anaconda3/lib/python3.6/site-packages/pandas/core/generic.py\u001b[0m in \u001b[0;36m__getattr__\u001b[0;34m(self, name)\u001b[0m\n\u001b[1;32m   4374\u001b[0m             \u001b[0;32mif\u001b[0m \u001b[0mself\u001b[0m\u001b[0;34m.\u001b[0m\u001b[0m_info_axis\u001b[0m\u001b[0;34m.\u001b[0m\u001b[0m_can_hold_identifiers_and_holds_name\u001b[0m\u001b[0;34m(\u001b[0m\u001b[0mname\u001b[0m\u001b[0;34m)\u001b[0m\u001b[0;34m:\u001b[0m\u001b[0;34m\u001b[0m\u001b[0m\n\u001b[1;32m   4375\u001b[0m                 \u001b[0;32mreturn\u001b[0m \u001b[0mself\u001b[0m\u001b[0;34m[\u001b[0m\u001b[0mname\u001b[0m\u001b[0;34m]\u001b[0m\u001b[0;34m\u001b[0m\u001b[0m\n\u001b[0;32m-> 4376\u001b[0;31m             \u001b[0;32mreturn\u001b[0m \u001b[0mobject\u001b[0m\u001b[0;34m.\u001b[0m\u001b[0m__getattribute__\u001b[0m\u001b[0;34m(\u001b[0m\u001b[0mself\u001b[0m\u001b[0;34m,\u001b[0m \u001b[0mname\u001b[0m\u001b[0;34m)\u001b[0m\u001b[0;34m\u001b[0m\u001b[0m\n\u001b[0m\u001b[1;32m   4377\u001b[0m \u001b[0;34m\u001b[0m\u001b[0m\n\u001b[1;32m   4378\u001b[0m     \u001b[0;32mdef\u001b[0m \u001b[0m__setattr__\u001b[0m\u001b[0;34m(\u001b[0m\u001b[0mself\u001b[0m\u001b[0;34m,\u001b[0m \u001b[0mname\u001b[0m\u001b[0;34m,\u001b[0m \u001b[0mvalue\u001b[0m\u001b[0;34m)\u001b[0m\u001b[0;34m:\u001b[0m\u001b[0;34m\u001b[0m\u001b[0m\n",
      "\u001b[0;31mAttributeError\u001b[0m: 'DataFrame' object has no attribute 'score'"
     ]
    },
    {
     "data": {
      "image/png": "[encoded data removed]",
      "text/plain": [
       "<matplotlib.figure.Figure at 0x11d4eaf60>"
      ]
     },
     "metadata": {
      "needs_background": "light"
     },
     "output_type": "display_data"
    }
   ],
   "source": [
    "#The Figure is like a canvas, and the Axes is a part of that canvas on which we will make a particular visualization.\n",
    "fig, ax = plt.subplots()\n",
    "fig.set_figwidth(16)\n",
    "fig.set_figheight(8)\n",
    "# What we just did, applying to `ax`\n",
    "ax.scatter(x = df['Age'], y = df.score, c='g') \n",
    "#ax.plot(x = df['Age'], y = df.score, linestyle='dashed', color='k')\n",
    "#ax.axis([0, 10, 0, 35])\n",
    "ax.set_xlabel('Age')\n",
    "ax.set_ylabel('Spending Score')\n",
    "ax.set_title('Age Vs Spending Score')"
   ]
  },
  {
   "cell_type": "code",
   "execution_count": null,
   "metadata": {},
   "outputs": [],
   "source": [
    "means = df.groupby('Gender').mean()\n",
    "print(means)\n",
    "print(means.index)"
   ]
  },
  {
   "cell_type": "code",
   "execution_count": null,
   "metadata": {},
   "outputs": [],
   "source": [
    "fig, ax = plt.subplots()\n",
    "\n",
    "ax.bar(x = means.index, height = means['score'])\n",
    "#ax.barh(x = df['Gender'], height = np.mean(df.score))\n",
    "ax.set_title('Mean of Spending Score')\n",
    "ax.set_xlabel('Gender')\n",
    "ax.set_ylabel('Mean of Spending Score')\n",
    "ax.set_ylim(top = 60)\n",
    "for i, v in enumerate(means['score']):\n",
    "    ax.text(i-0.4, v + 1, s = str(v), color='blue', fontweight='bold')"
   ]
  },
  {
   "cell_type": "code",
   "execution_count": null,
   "metadata": {},
   "outputs": [],
   "source": []
  }
 ],
 "metadata": {
  "kernelspec": {
   "display_name": "Python 3",
   "language": "python",
   "name": "python3"
  },
  "language_info": {
   "codemirror_mode": {
    "name": "ipython",
    "version": 3
   },
   "file_extension": ".py",
   "mimetype": "text/x-python",
   "name": "python",
   "nbconvert_exporter": "python",
   "pygments_lexer": "ipython3",
   "version": "3.6.6"
  }
 },
 "nbformat": 4,
 "nbformat_minor": 2
}
