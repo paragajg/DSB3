{
 "cells": [
  {
   "cell_type": "markdown",
   "metadata": {},
   "source": [
    "# Power of AI. Are you in it ??"
   ]
  },
  {
   "cell_type": "code",
   "execution_count": 1,
   "metadata": {
    "slideshow": {
     "slide_type": "slide"
    }
   },
   "outputs": [
    {
     "data": {
      "image/jpeg": "[encoded data removed]",
      "text/html": [
       "\n",
       "        <iframe\n",
       "            width=\"400\"\n",
       "            height=\"300\"\n",
       "            src=\"https://www.youtube.com/embed/GiZ7kyrwZGQ\"\n",
       "            frameborder=\"0\"\n",
       "            allowfullscreen\n",
       "        ></iframe>\n",
       "        "
      ],
      "text/plain": [
       "<IPython.lib.display.YouTubeVideo at 0x10705ec18>"
      ]
     },
     "execution_count": 1,
     "metadata": {},
     "output_type": "execute_result"
    }
   ],
   "source": [
    "from IPython.lib.display import YouTubeVideo\n",
    "YouTubeVideo('GiZ7kyrwZGQ')"
   ]
  },
  {
   "cell_type": "code",
   "execution_count": 2,
   "metadata": {
    "slideshow": {
     "slide_type": "slide"
    }
   },
   "outputs": [],
   "source": [
    "import numpy as np\n",
    "import matplotlib.pyplot as plt\n",
    "from matplotlib import style\n",
    "from sklearn.linear_model import LinearRegression\n",
    "from sklearn.model_selection import train_test_split\n",
    "import quandl\n",
    "import datetime\n",
    "import pandas as pd\n",
    "from sklearn import preprocessing\n",
    "#from sklearn import cross_validation\n",
    "#style.use('ggplot')\n",
    "%matplotlib inline"
   ]
  },
  {
   "cell_type": "code",
   "execution_count": 3,
   "metadata": {
    "slideshow": {
     "slide_type": "subslide"
    }
   },
   "outputs": [],
   "source": [
    "quandl.ApiConfig.api_key = \"TYyfSn2Tm2RfkzuuvCKL\""
   ]
  },
  {
   "cell_type": "code",
   "execution_count": 4,
   "metadata": {
    "slideshow": {
     "slide_type": "subslide"
    }
   },
   "outputs": [],
   "source": [
    "df = quandl.get('NSE/INFY')"
   ]
  },
  {
   "cell_type": "code",
   "execution_count": 5,
   "metadata": {
    "slideshow": {
     "slide_type": "slide"
    }
   },
   "outputs": [
    {
     "name": "stdout",
     "output_type": "stream",
     "text": [
      "        Date     Open     High     Low    Last    Close  Total Trade Quantity  \\\n",
      "0 2011-06-29  2868.00  2907.00  2868.0  2880.0  2881.75              600094.0   \n",
      "1 2011-06-30  2886.05  2919.00  2881.5  2903.1  2910.45             1417730.0   \n",
      "2 2011-07-01  2935.00  2969.95  2924.1  2928.0  2934.15              800308.0   \n",
      "3 2011-07-04  2966.65  2977.00  2935.0  2941.0  2938.95              514324.0   \n",
      "4 2011-07-05  2957.00  2969.90  2926.0  2959.0  2956.45              802966.0   \n",
      "\n",
      "   Turnover (Lacs)  \n",
      "0         17320.05  \n",
      "1         41163.32  \n",
      "2         23549.85  \n",
      "3         15162.29  \n",
      "4         23701.22  \n"
     ]
    }
   ],
   "source": [
    "df = df.reset_index()\n",
    "df = df.dropna()\n",
    "print(df.head())"
   ]
  },
  {
   "cell_type": "markdown",
   "metadata": {
    "slideshow": {
     "slide_type": "slide"
    }
   },
   "source": [
    "<h2> Model Building & Testing Methodology </h2>\n",
    "<img src=\"./images/train_test.png\" alt=\"Train & Test Methodology\" >\n",
    "<h2> Linear Regression \"Any School Memories of Eqn of line ?\" </h2>\n",
    "<img src = \"./images/lin_reg.jpg\" alt = \"Lin-Regression\">"
   ]
  },
  {
   "cell_type": "code",
   "execution_count": 6,
   "metadata": {
    "slideshow": {
     "slide_type": "subslide"
    }
   },
   "outputs": [],
   "source": [
    "prices = df['Close'].tolist()\n",
    "dates = df.index.tolist()\n",
    "\n",
    "#Convert to 1d Vector\n",
    "dates = np.reshape(dates, (len(dates), 1))\n",
    "prices = np.reshape(prices, (len(prices), 1))"
   ]
  },
  {
   "cell_type": "code",
   "execution_count": 7,
   "metadata": {
    "slideshow": {
     "slide_type": "slide"
    }
   },
   "outputs": [],
   "source": [
    "def prepare_data(df,forecast_col,forecast_out,test_size):\n",
    "    label = df[forecast_col].shift(-forecast_out);#creating new column called label with the last 5 rows are nan (Not a Number)\n",
    "    X = np.array(df[[forecast_col]]); #creating the feature array\n",
    "    X = preprocessing.scale(X) #processing the feature array\n",
    "    X_lately = X[-forecast_out:] #creating the column i want to use later in the predicting method\n",
    "    X = X[:-forecast_out] # X that will contain the training and testing\n",
    "    label.dropna(inplace=True); #dropping na values\n",
    "    y = np.array(label)  # assigning Y\n",
    "    #X_train, X_test, Y_train, Y_test = train_test_split(X, y, test_size=test_size) #cross validation \n",
    "    X_train = X[0:int(len(X)*(1-test_size))]\n",
    "    X_test = X[-int(len(X)*test_size):]\n",
    "    Y_train = y[0:int(len(y)*(1-test_size))]\n",
    "    Y_test = y[-int(len(y)* test_size):]\n",
    "    response = [X_train,X_test , Y_train, Y_test , X_lately];\n",
    "    return response"
   ]
  },
  {
   "cell_type": "code",
   "execution_count": 8,
   "metadata": {
    "slideshow": {
     "slide_type": "slide"
    }
   },
   "outputs": [],
   "source": [
    "forecast_col = 'Close'#choosing which column to forecast\n",
    "forecast_out = 10 #how far to forecast \n",
    "test_size = 0.2#the size of my test set\n",
    "\n",
    "X_train, X_test, Y_train, Y_test , X_lately =prepare_data(df,forecast_col,forecast_out,test_size)"
   ]
  },
  {
   "cell_type": "code",
   "execution_count": null,
   "metadata": {
    "slideshow": {
     "slide_type": "slide"
    }
   },
   "outputs": [],
   "source": [
    "learner = LinearRegression(); #initializing linear regression model\n",
    "\n",
    "learner.fit(X_train,Y_train); #training the linear regression model\n",
    "score=learner.score(X_test,Y_test);#testing the linear regression model\n",
    "\n",
    "forecast= learner.predict(X_lately); #set that will contain the forecasted data\n",
    "\n",
    "response={};#creting json object\n",
    "response['test_score']=score; \n",
    "response['forecast_set']=forecast;\n",
    "\n",
    "print(response)"
   ]
  },
  {
   "cell_type": "code",
   "execution_count": null,
   "metadata": {
    "slideshow": {
     "slide_type": "fragment"
    }
   },
   "outputs": [],
   "source": [
    "# Build Set Graph\n",
    "plt.figure(figsize=(16,8))\n",
    "plt.plot(df.Date, df.Close, color='yellow', label= 'Actual Price') #plotting the initial datapoints\n",
    "plt.plot(df.Date[-len(X_test):], learner.predict(X_test), color='blue', linewidth=1, label = 'Predicted Price') #plotting the line made by linear regression\n",
    "plt.plot(pd.date_range('2019-01-07', '2019-01-18', freq= pd.tseries.offsets.BDay()), learner.predict(X_lately),\n",
    "        color = 'green', linewidth = 1, label = 'Forecasted Price')\n",
    "plt.title('Stock Price Forecasting: Linear Regression | Time vs. Price')\n",
    "plt.legend()\n",
    "plt.xlabel('Date Integer')\n",
    "plt.show()\n",
    "\n",
    "# Build Forecasting Graph\n",
    "plt.figure(figsize=(16,8))\n",
    "#plt.plot(df.Date, df.Close, color='yellow', label= 'Actual Price') #plotting the initial datapoints\n",
    "#plt.plot(df.Date[-len(X_test):], learner.predict(X_test), color='blue', linewidth=1, label = 'Predicted Price') #plotting the line made by linear regression\n",
    "plt.plot(pd.date_range('2019-01-07', '2019-01-18', freq= pd.tseries.offsets.BDay()), learner.predict(X_lately),\n",
    "        color = 'green', linewidth = 1, label = 'Forecasted Price')\n",
    "plt.title('Stock Price Forecasting: Linear Regression | Time vs. Price')\n",
    "plt.legend()\n",
    "plt.xlabel('Date Integer')\n",
    "plt.show()"
   ]
  },
  {
   "cell_type": "code",
   "execution_count": 11,
   "metadata": {
    "slideshow": {
     "slide_type": "skip"
    }
   },
   "outputs": [
    {
     "data": {
      "text/html": [
       "<div>\n",
       "<style scoped>\n",
       "    .dataframe tbody tr th:only-of-type {\n",
       "        vertical-align: middle;\n",
       "    }\n",
       "\n",
       "    .dataframe tbody tr th {\n",
       "        vertical-align: top;\n",
       "    }\n",
       "\n",
       "    .dataframe thead th {\n",
       "        text-align: right;\n",
       "    }\n",
       "</style>\n",
       "<table border=\"1\" class=\"dataframe\">\n",
       "  <thead>\n",
       "    <tr style=\"text-align: right;\">\n",
       "      <th></th>\n",
       "      <th>Dates</th>\n",
       "      <th>Forecasted_Price</th>\n",
       "    </tr>\n",
       "  </thead>\n",
       "  <tbody>\n",
       "    <tr>\n",
       "      <th>0</th>\n",
       "      <td>2019-01-07</td>\n",
       "      <td>680.715439</td>\n",
       "    </tr>\n",
       "    <tr>\n",
       "      <th>1</th>\n",
       "      <td>2019-01-08</td>\n",
       "      <td>683.429527</td>\n",
       "    </tr>\n",
       "    <tr>\n",
       "      <th>2</th>\n",
       "      <td>2019-01-09</td>\n",
       "      <td>678.631407</td>\n",
       "    </tr>\n",
       "    <tr>\n",
       "      <th>3</th>\n",
       "      <td>2019-01-10</td>\n",
       "      <td>690.990202</td>\n",
       "    </tr>\n",
       "    <tr>\n",
       "      <th>4</th>\n",
       "      <td>2019-01-11</td>\n",
       "      <td>691.135600</td>\n",
       "    </tr>\n",
       "    <tr>\n",
       "      <th>5</th>\n",
       "      <td>2019-01-14</td>\n",
       "      <td>693.074234</td>\n",
       "    </tr>\n",
       "    <tr>\n",
       "      <th>6</th>\n",
       "      <td>2019-01-15</td>\n",
       "      <td>698.987069</td>\n",
       "    </tr>\n",
       "    <tr>\n",
       "      <th>7</th>\n",
       "      <td>2019-01-16</td>\n",
       "      <td>702.864338</td>\n",
       "    </tr>\n",
       "    <tr>\n",
       "      <th>8</th>\n",
       "      <td>2019-01-17</td>\n",
       "      <td>702.961270</td>\n",
       "    </tr>\n",
       "    <tr>\n",
       "      <th>9</th>\n",
       "      <td>2019-01-18</td>\n",
       "      <td>695.109800</td>\n",
       "    </tr>\n",
       "  </tbody>\n",
       "</table>\n",
       "</div>"
      ],
      "text/plain": [
       "       Dates  Forecasted_Price\n",
       "0 2019-01-07        680.715439\n",
       "1 2019-01-08        683.429527\n",
       "2 2019-01-09        678.631407\n",
       "3 2019-01-10        690.990202\n",
       "4 2019-01-11        691.135600\n",
       "5 2019-01-14        693.074234\n",
       "6 2019-01-15        698.987069\n",
       "7 2019-01-16        702.864338\n",
       "8 2019-01-17        702.961270\n",
       "9 2019-01-18        695.109800"
      ]
     },
     "execution_count": 11,
     "metadata": {},
     "output_type": "execute_result"
    }
   ],
   "source": [
    "df_forecasted = pd.DataFrame({\"Dates\":pd.date_range('2019-01-07', '2019-01-18', freq= pd.tseries.offsets.BDay()),\n",
    "                             \"Forecasted_Price\":forecast})\n",
    "df_forecasted # forecasted value in a data frame object"
   ]
  },
  {
   "cell_type": "code",
   "execution_count": null,
   "metadata": {
    "slideshow": {
     "slide_type": "slide"
    }
   },
   "outputs": [],
   "source": [
    "# For finding business date from a specific date\n",
    "import datetime\n",
    "def date_by_adding_business_days(from_date, add_days):\n",
    "    business_days_to_add = add_days\n",
    "    current_date = from_date\n",
    "    while business_days_to_add > 0:\n",
    "        current_date += datetime.timedelta(days=1)\n",
    "        weekday = current_date.weekday()\n",
    "        if weekday >= 5: # sunday = 6\n",
    "            continue\n",
    "        business_days_to_add -= 1\n",
    "    return current_date\n",
    "\n",
    "#demo:\n",
    "print('10 business days from today:')\n",
    "print(date_by_adding_business_days(datetime.datetime.strptime('2019-01-04', '%Y-%m-%d'), 10))"
   ]
  },
  {
   "cell_type": "markdown",
   "metadata": {
    "slideshow": {
     "slide_type": "slide"
    }
   },
   "source": [
    "## Closing Thoughts for the day to Open Up our Thoughts !!"
   ]
  },
  {
   "cell_type": "code",
   "execution_count": 12,
   "metadata": {
    "slideshow": {
     "slide_type": "slide"
    }
   },
   "outputs": [
    {
     "data": {
      "image/jpeg": "[encoded data removed]",
      "text/html": [
       "\n",
       "        <iframe\n",
       "            width=\"400\"\n",
       "            height=\"300\"\n",
       "            src=\"https://www.youtube.com/embed/kC72nnR8EW8\"\n",
       "            frameborder=\"0\"\n",
       "            allowfullscreen\n",
       "        ></iframe>\n",
       "        "
      ],
      "text/plain": [
       "<IPython.lib.display.YouTubeVideo at 0x120e53860>"
      ]
     },
     "execution_count": 12,
     "metadata": {},
     "output_type": "execute_result"
    }
   ],
   "source": [
    "YouTubeVideo('kC72nnR8EW8')"
   ]
  },
  {
   "cell_type": "code",
   "execution_count": null,
   "metadata": {
    "slideshow": {
     "slide_type": "skip"
    }
   },
   "outputs": [],
   "source": []
  }
 ],
 "metadata": {
  "kernelspec": {
   "display_name": "Python 3",
   "language": "python",
   "name": "python3"
  },
  "language_info": {
   "codemirror_mode": {
    "name": "ipython",
    "version": 3
   },
   "file_extension": ".py",
   "mimetype": "text/x-python",
   "name": "python",
   "nbconvert_exporter": "python",
   "pygments_lexer": "ipython3",
   "version": "3.6.6"
  }
 },
 "nbformat": 4,
 "nbformat_minor": 2
}
