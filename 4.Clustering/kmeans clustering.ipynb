{
 "cells": [
  {
   "cell_type": "markdown",
   "metadata": {},
   "source": [
    "## Unsupervised Learning Algorithms\n",
    "\n",
    "### Clustering Analysis\n",
    "- #### Kmeans Clustering Algorithm"
   ]
  },
  {
   "cell_type": "markdown",
   "metadata": {},
   "source": [
    "### Kmeans Clustering\n",
    "\n",
    "- Clustering algorithms seek to learn, from the properties of the data, an optimal division or discrete labeling of groups of points.\n",
    "\n",
    "- Many clustering algorithms are available in Scikit-Learn and elsewhere, but perhaps the simplest to understand is an algorithm known as k-means clustering\n",
    "\n",
    "Reading Reference for Clustering Algorithms -\n",
    "https://scikit-learn.org/stable/modules/clustering.html#clustering"
   ]
  },
  {
   "cell_type": "markdown",
   "metadata": {},
   "source": [
    "### Step1: Load Libraries"
   ]
  },
  {
   "cell_type": "code",
   "execution_count": null,
   "metadata": {},
   "outputs": [],
   "source": [
    "import numpy as np            # Data manipulation\n",
    "import pandas as pd           # Dataframe manipulatio \n",
    "import matplotlib.pyplot as plt                   # For graphics\n",
    "import seaborn as sns\n",
    "from sklearn.preprocessing import StandardScaler  # For scaling dataset\n",
    "from sklearn.cluster import KMeans, AgglomerativeClustering"
   ]
  },
  {
   "cell_type": "markdown",
   "metadata": {},
   "source": [
    "### Step2: Load Data"
   ]
  },
  {
   "cell_type": "code",
   "execution_count": null,
   "metadata": {},
   "outputs": [],
   "source": [
    "df_raw = pd.read_csv(\"./data/world-happiness-report/2017.csv\")\n",
    "df_raw.head()"
   ]
  },
  {
   "cell_type": "markdown",
   "metadata": {},
   "source": [
    "### Step3: Explore Data"
   ]
  },
  {
   "cell_type": "code",
   "execution_count": null,
   "metadata": {},
   "outputs": [],
   "source": [
    "df_raw.describe()"
   ]
  },
  {
   "cell_type": "code",
   "execution_count": null,
   "metadata": {},
   "outputs": [],
   "source": [
    "df_raw.columns"
   ]
  },
  {
   "cell_type": "code",
   "execution_count": null,
   "metadata": {},
   "outputs": [],
   "source": [
    "# Plot Correlation Heatmap to analyse correlation between continuous variables\n",
    "df = df_raw[['Happiness Rank','Economy (GDP per Capita)','Family','Health (Life Expectancy)', 'Freedom', \n",
    "          'Generosity','Trust (Government Corruption)','Dystopia Residual','Happiness Score']] #Subsetting the data\n",
    "cor = df.corr() #Calculate the correlation of the above variables\n",
    "\n",
    "fig,ax = plt.subplots()\n",
    "fig.set_figwidth(8)\n",
    "fig.set_figheight(8)\n",
    "sns.heatmap(cor, square = True,annot=True,cmap=\"YlGnBu\") #Plot the correlation as heat map"
   ]
  },
  {
   "cell_type": "markdown",
   "metadata": {},
   "source": [
    "### Step4: Preprocessing the data"
   ]
  },
  {
   "cell_type": "code",
   "execution_count": null,
   "metadata": {},
   "outputs": [],
   "source": [
    "# Scale all the variables to similar scale to avoid any biasness due to variabtion in their measurement scale\n",
    "#Scaling of data\n",
    "ss = StandardScaler()\n",
    "ss.fit_transform(df)"
   ]
  },
  {
   "cell_type": "markdown",
   "metadata": {},
   "source": [
    "### Step5: Kmean Approach to identify clusters\n",
    "The k-means algorithm searches for a pre-determined number of clusters within an unlabeled multidimensional dataset. It accomplishes this using a simple conception of what the optimal clustering looks like:\n",
    "\n",
    "- The \"cluster center\" is the arithmetic mean of all the points belonging to the cluster.\n",
    "- Each point is closer to its own cluster center than to other cluster centers.\n",
    "\n",
    "Those two assumptions are the basis of the k-means model."
   ]
  },
  {
   "cell_type": "code",
   "execution_count": null,
   "metadata": {},
   "outputs": [],
   "source": [
    "def doKmeans(X, nclust=2):\n",
    "    model = KMeans(nclust)\n",
    "    model.fit(X)\n",
    "    clust_labels = model.predict(X)\n",
    "    cent = model.cluster_centers_\n",
    "    return (clust_labels, cent)"
   ]
  },
  {
   "cell_type": "code",
   "execution_count": null,
   "metadata": {},
   "outputs": [],
   "source": [
    "clust_labels, cent = doKmeans(df, 2)\n",
    "kmeans = pd.DataFrame(clust_labels)\n",
    "df.insert((df.shape[1]),'kmeans',kmeans)"
   ]
  },
  {
   "cell_type": "code",
   "execution_count": null,
   "metadata": {},
   "outputs": [],
   "source": [
    "# Just to check if kmeans column added to the dataframe\n",
    "df.head()"
   ]
  },
  {
   "cell_type": "code",
   "execution_count": null,
   "metadata": {},
   "outputs": [],
   "source": [
    "# Plot scatter plot\n",
    "fig, (ax0,ax1) = plt.subplots(ncols= 2)\n",
    "fig.set_figwidth(16)\n",
    "fig.set_figheight(6)\n",
    "\n",
    "# Scatter plots of Corruption vs GDP\n",
    "scatter = ax0.scatter(df[\"Economy (GDP per Capita)\"],df['Trust (Government Corruption)'],\n",
    "                     c=kmeans[0],s=50)\n",
    "ax0.set_title('K-Means Clustering')\n",
    "ax0.set_xlabel('GDP per Capita')\n",
    "ax0.set_ylabel('Corruption')\n",
    "\n",
    "# Scatter plots of Corruption vs GDP\n",
    "\n",
    "scatter = ax1.scatter(df['Freedom'],df['Trust (Government Corruption)'],\n",
    "                     c=kmeans[0],s=50)\n",
    "ax1.set_title('K-Means Clustering')\n",
    "ax1.set_xlabel('Freedom')\n",
    "ax1.set_ylabel('Corruption')\n",
    "\n",
    "plt.colorbar(scatter)\n"
   ]
  },
  {
   "cell_type": "code",
   "execution_count": null,
   "metadata": {},
   "outputs": [],
   "source": [
    "# Convert Cluster to\n",
    "\n",
    "df[\"cluster_name\"] = df[\"kmeans\"].apply(lambda x: \"cluster0\" if x == 0 else \"cluster1\")"
   ]
  },
  {
   "cell_type": "code",
   "execution_count": null,
   "metadata": {},
   "outputs": [],
   "source": [
    "df.tail()"
   ]
  },
  {
   "cell_type": "code",
   "execution_count": null,
   "metadata": {},
   "outputs": [],
   "source": [
    "fig, (ax,ax2,ax3,ax4) = plt.subplots(nrows = 4)\n",
    "fig.set_figwidth(16)\n",
    "fig.set_figheight(24)\n",
    "x = sns.boxplot(x=\"cluster_name\", y='Freedom', data=df, ax= ax)\n",
    "x = sns.swarmplot(x=\"cluster_name\", y='Freedom', data=df,color=\".25\",ax= ax)\n",
    "# Cluster analysis of employment\n",
    "x = sns.boxplot(x=\"cluster_name\", y='Economy (GDP per Capita)', data=df, ax= ax2)\n",
    "x = sns.swarmplot(x=\"cluster_name\", y='Economy (GDP per Capita)', data=df,color=\".25\",ax= ax2)\n",
    "# Cluster analysis of employment\n",
    "x = sns.boxplot(x=\"cluster_name\", y='Happiness Score', data=df, ax= ax3)\n",
    "x = sns.swarmplot(x=\"cluster_name\", y='Happiness Score', data=df,color=\".25\",ax= ax3)\n",
    "# Cluster analysis of employment\n",
    "x = sns.boxplot(x=\"cluster_name\", y='Family', data=df, ax= ax4)\n",
    "x = sns.swarmplot(x=\"cluster_name\", y='Family', data=df,color=\".25\",ax= ax4)"
   ]
  },
  {
   "cell_type": "code",
   "execution_count": null,
   "metadata": {},
   "outputs": [],
   "source": [
    "df.head(n=20)"
   ]
  },
  {
   "cell_type": "code",
   "execution_count": null,
   "metadata": {},
   "outputs": [],
   "source": []
  }
 ],
 "metadata": {
  "kernelspec": {
   "display_name": "Python 3",
   "language": "python",
   "name": "python3"
  },
  "language_info": {
   "codemirror_mode": {
    "name": "ipython",
    "version": 3
   },
   "file_extension": ".py",
   "mimetype": "text/x-python",
   "name": "python",
   "nbconvert_exporter": "python",
   "pygments_lexer": "ipython3",
   "version": "3.6.6"
  }
 },
 "nbformat": 4,
 "nbformat_minor": 2
}
